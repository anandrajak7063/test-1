{
  "nbformat": 4,
  "nbformat_minor": 0,
  "metadata": {
    "colab": {
      "provenance": []
    },
    "kernelspec": {
      "name": "python3",
      "display_name": "Python 3"
    },
    "language_info": {
      "name": "python"
    }
  },
  "cells": [
    {
      "cell_type": "code",
      "execution_count": null,
      "metadata": {
        "colab": {
          "base_uri": "https://localhost:8080/"
        },
        "id": "q2NDtILqFAms",
        "outputId": "30efe2da-cc29-4ba0-993a-90bf27dd665e"
      },
      "outputs": [
        {
          "output_type": "stream",
          "name": "stdout",
          "text": [
            "hello world\n"
          ]
        }
      ],
      "source": [
        "print(\"hello world\")"
      ]
    },
    {
      "cell_type": "code",
      "source": [
        "#1#\n",
        "def reversed_function(input_string):\n",
        "  reverse_string=\"\"\n",
        "  for i in range [len(input_string)-1,-1,-1]:\n",
        "  retrun reverse_string\n",
        "\n",
        "\n",
        "string=(\"hello world\")\n",
        "reversed_string= reverse_string (string)\n",
        "print(reverse_string)"
      ],
      "metadata": {
        "colab": {
          "base_uri": "https://localhost:8080/",
          "height": 106
        },
        "id": "59KeHGuwFUUj",
        "outputId": "33af18e2-eac7-4044-a063-e1647a6fadc2"
      },
      "execution_count": 40,
      "outputs": [
        {
          "output_type": "error",
          "ename": "IndentationError",
          "evalue": "expected an indented block after 'for' statement on line 4 (<ipython-input-40-d984a95a1fc9>, line 5)",
          "traceback": [
            "\u001b[0;36m  File \u001b[0;32m\"<ipython-input-40-d984a95a1fc9>\"\u001b[0;36m, line \u001b[0;32m5\u001b[0m\n\u001b[0;31m    retrun reverse_string\u001b[0m\n\u001b[0m    ^\u001b[0m\n\u001b[0;31mIndentationError\u001b[0m\u001b[0;31m:\u001b[0m expected an indented block after 'for' statement on line 4\n"
          ]
        }
      ]
    },
    {
      "cell_type": "code",
      "source": [
        "#2#\n",
        "my_string = \"Hello, World!\"\n",
        "length_string = len(my_string)\n",
        "\n",
        "print(\"Length of string:\", length_string)\n"
      ],
      "metadata": {
        "id": "Qef3NofoKJ_g",
        "colab": {
          "base_uri": "https://localhost:8080/"
        },
        "outputId": "f702127a-0594-468b-ac9e-4419cfc71998"
      },
      "execution_count": 25,
      "outputs": [
        {
          "output_type": "stream",
          "name": "stdout",
          "text": [
            "Length of string: 13\n"
          ]
        }
      ]
    },
    {
      "cell_type": "code",
      "source": [
        "#3#\n",
        "my_list = [1, 2, 3, 4, 5]\n",
        "value_check = 3\n",
        "\n",
        "if value_check in my_list:\n",
        "    print(f\"{value_check} exists in the list.\")\n",
        "else:\n",
        "    print(f\"{value_check} dos not exist in the list.\")\n"
      ],
      "metadata": {
        "colab": {
          "base_uri": "https://localhost:8080/"
        },
        "id": "VEkg_r85OkRf",
        "outputId": "14fc1988-b161-4118-a082-a8cf92a65208"
      },
      "execution_count": 23,
      "outputs": [
        {
          "output_type": "stream",
          "name": "stdout",
          "text": [
            "3 exists in the list.\n"
          ]
        }
      ]
    },
    {
      "cell_type": "code",
      "source": [
        "#4#\n",
        "list1 = [1, 2, 3]\n",
        "list2 = [1, 2, 3]\n",
        "\n",
        "if list1 == list2:\n",
        "    print(\"The lists are equal\")\n",
        "else:\n",
        "    print(\"The lists are not equal\")\n"
      ],
      "metadata": {
        "colab": {
          "base_uri": "https://localhost:8080/"
        },
        "id": "1LDBQwUUO6os",
        "outputId": "71f74b92-291e-4ada-ed36-36b02b2d69cb"
      },
      "execution_count": 41,
      "outputs": [
        {
          "output_type": "stream",
          "name": "stdout",
          "text": [
            "The lists are equal\n"
          ]
        }
      ]
    },
    {
      "cell_type": "code",
      "source": [],
      "metadata": {
        "id": "dE_M13aTS3xD"
      },
      "execution_count": null,
      "outputs": []
    }
  ]
}